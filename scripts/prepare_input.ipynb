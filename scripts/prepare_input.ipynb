{
 "cells": [
  {
   "cell_type": "code",
   "execution_count": 1,
   "metadata": {
    "collapsed": true
   },
   "outputs": [],
   "source": [
    "#prepare input to cuMF\n",
    "#assume input is given in text format\n",
    "#each line is like \n",
    "#\"user_id item_id rating\"\n",
    "import numpy as np\n",
    "from scipy.sparse import csr_matrix\n",
    "from scipy.sparse import csc_matrix\n",
    "from scipy.sparse import coo_matrix\n",
    "from scipy import sparse"
   ]
  },
  {
   "cell_type": "code",
   "execution_count": 2,
   "metadata": {
    "collapsed": false
   },
   "outputs": [],
   "source": [
    "#as an example, we start from the netflix data\n",
    "#the rating matrix R can be downloaded from\n",
    "#from http://www.select.cs.cmu.edu/code/graphlab/datasets/\n",
    "#download netflix_mm and netflix_mme from the above URL first\n",
    "train_data_file = \"/u/weitan/gpfs/data/netflix/netflix_mm\"\n",
    "test_data_file = \"/u/weitan/gpfs/data/netflix/netflix_mme\"\n",
    "#netflix_mm and netflix_mme look like\n",
    "'''\n",
    "% Generated 25-Sep-2011\n",
    "480189 17770 99072112\n",
    "1 1  3\n",
    "2 1  5\n",
    "3 1  4\n",
    "5 1  3\n",
    "6 1  3\n",
    "7 1  4\n",
    "8 1  3\n",
    "\n",
    "'''\n",
    "m = 480189\n",
    "n = 17770\n",
    "nnz_train = 99072112\n",
    "nnz_test = 1408395"
   ]
  },
  {
   "cell_type": "code",
   "execution_count": 3,
   "metadata": {
    "collapsed": false
   },
   "outputs": [],
   "source": [
    "#1-based to 0-based\n",
    "test_j,test_i,test_rating = np.loadtxt(test_data_file,dtype=np.int32, skiprows=3, unpack=True)\n",
    "R_test_coo = coo_matrix((test_rating,(test_i - 1,test_j - 1)))"
   ]
  },
  {
   "cell_type": "code",
   "execution_count": 9,
   "metadata": {
    "collapsed": false
   },
   "outputs": [],
   "source": [
    "#for test data, we need COO format to calculate test RMSE\n",
    "assert R_test_coo.nnz == nnz_test\n",
    "R_test_coo.data.astype(np.float32).tofile('R_test_coo.data.bin')\n",
    "R_test_coo.row.tofile('R_test_coo.row.bin')\n",
    "R_test_coo.col.tofile('R_test_coo.col.bin')"
   ]
  },
  {
   "cell_type": "code",
   "execution_count": 5,
   "metadata": {
    "collapsed": false
   },
   "outputs": [],
   "source": [
    "#1-based to 0-based\n",
    "train_j,train_i,train_rating = np.loadtxt(train_data_file,dtype=np.int32, skiprows=3, unpack=True)\n",
    "R_train_coo = coo_matrix((train_rating,(train_i - 1,train_j - 1)))"
   ]
  },
  {
   "cell_type": "code",
   "execution_count": 6,
   "metadata": {
    "collapsed": false
   },
   "outputs": [],
   "source": [
    "#for training data, we need COO format to calculate training RMSE\n",
    "#we need CSR format R when calculate X from \\Theta\n",
    "#we need CSC format of R when calculating \\Theta from X\n",
    "assert R_train_coo.nnz == nnz_train\n",
    "R_train_coo.row.tofile('R_train_coo.row.bin')"
   ]
  },
  {
   "cell_type": "code",
   "execution_count": 12,
   "metadata": {
    "collapsed": false
   },
   "outputs": [],
   "source": [
    "R_train_csr = R_train_coo.tocsr()\n",
    "R_train_csc = R_train_coo.tocsc()\n",
    "R_train_csr.data.astype(np.float32).tofile('R_train_csr.data.bin')\n",
    "R_train_csr.indices.tofile('R_train_csr.indices.bin')\n",
    "R_train_csr.indptr.tofile('R_train_csr.indptr.bin')\n",
    "R_train_csc.data.astype(np.float32).tofile('R_train_csc.data.bin')\n",
    "R_train_csc.indices.tofile('R_train_csc.indices.bin')\n",
    "R_train_csc.indptr.tofile('R_train_csc.indptr.bin')"
   ]
  }
 ],
 "metadata": {
  "kernelspec": {
   "display_name": "Python 2",
   "language": "python",
   "name": "python2"
  },
  "language_info": {
   "codemirror_mode": {
    "name": "ipython",
    "version": 2
   },
   "file_extension": ".py",
   "mimetype": "text/x-python",
   "name": "python",
   "nbconvert_exporter": "python",
   "pygments_lexer": "ipython2",
   "version": "2.7.11"
  }
 },
 "nbformat": 4,
 "nbformat_minor": 0
}
