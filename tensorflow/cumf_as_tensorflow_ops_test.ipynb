{
 "cells": [
  {
   "cell_type": "code",
   "execution_count": 1,
   "metadata": {
    "collapsed": false
   },
   "outputs": [],
   "source": [
    "import tensorflow as tf\n",
    "lib_path = './als_tf.so'\n",
    "als_module = tf.load_op_library(lib_path)"
   ]
  },
  {
   "cell_type": "code",
   "execution_count": 2,
   "metadata": {
    "collapsed": false
   },
   "outputs": [],
   "source": [
    "import numpy as np\n",
    "#input data\n",
    "csrVal = np.fromfile('../netflix/R_train_csr.data.bin',dtype=np.float32)\n",
    "csrCol = np.fromfile('../netflix/R_train_csr.indices.bin',dtype=np.int32)\n",
    "csrRow = np.fromfile('../netflix/R_train_csr.indptr.bin',dtype=np.int32)\n",
    "\n",
    "cscVal = np.fromfile('../netflix/R_train_csc.data.bin',dtype=np.float32)\n",
    "cscRow = np.fromfile('../netflix/R_train_csc.indices.bin',dtype=np.int32)\n",
    "cscCol = np.fromfile('../netflix/R_train_csc.indptr.bin',dtype=np.int32)\n",
    "\n",
    "cooRow = np.fromfile('../netflix/R_train_coo.row.bin',dtype=np.int32)\n",
    "\n",
    "cooRowTest = np.fromfile('../netflix/R_test_coo.row.bin',dtype=np.int32)\n",
    "cooColTest = np.fromfile('../netflix/R_test_coo.col.bin',dtype=np.int32)\n",
    "cooValTest = np.fromfile('../netflix/R_test_coo.data.bin',dtype=np.float32)"
   ]
  },
  {
   "cell_type": "code",
   "execution_count": 3,
   "metadata": {
    "collapsed": true
   },
   "outputs": [],
   "source": [
    "m = 17770\n",
    "n = 480189\n",
    "f = 100\n",
    "nnz = 99072112\n",
    "nnz_test = 1408395\n",
    "llambda = 0.055\n",
    "iters =10\n",
    "xbatch = 1\n",
    "thetabatch = 3"
   ]
  },
  {
   "cell_type": "code",
   "execution_count": 4,
   "metadata": {
    "collapsed": false,
    "scrolled": true
   },
   "outputs": [
    {
     "name": "stdout",
     "output_type": "stream",
     "text": [
      "Hello, TensorFlow!\n",
      "[[ 0.9178403]]\n"
     ]
    }
   ],
   "source": [
    "with tf.device('/cpu:0'):\n",
    "    hello = tf.constant('Hello, TensorFlow!')\n",
    "    [thetaT,XT, rmse] = als_module.do_als(csrRow, csrCol, csrVal, cscRow, cscCol, cscVal, cooRow, \n",
    "                                          cooRowTest, cooColTest, cooValTest, m, n, f, nnz, nnz_test, \n",
    "                                          llambda, iters,xbatch, thetabatch, 0)\n",
    "sess = tf.Session(config=tf.ConfigProto(log_device_placement=True))\n",
    "with sess:\n",
    "    print sess.run(hello)    \n",
    "    print sess.run(rmse)"
   ]
  },
  {
   "cell_type": "code",
   "execution_count": null,
   "metadata": {
    "collapsed": true
   },
   "outputs": [],
   "source": []
  }
 ],
 "metadata": {
  "kernelspec": {
   "display_name": "Python 2",
   "language": "python",
   "name": "python2"
  },
  "language_info": {
   "codemirror_mode": {
    "name": "ipython",
    "version": 2
   },
   "file_extension": ".py",
   "mimetype": "text/x-python",
   "name": "python",
   "nbconvert_exporter": "python",
   "pygments_lexer": "ipython2",
   "version": "2.7.11"
  }
 },
 "nbformat": 4,
 "nbformat_minor": 0
}
